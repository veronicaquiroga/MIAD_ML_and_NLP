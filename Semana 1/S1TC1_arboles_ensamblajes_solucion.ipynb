{
 "cells": [
  {
   "cell_type": "markdown",
   "metadata": {},
   "source": [
    "![image info](https://raw.githubusercontent.com/albahnsen/MIAD_ML_and_NLP/main/images/banner_1.png)"
   ]
  },
  {
   "cell_type": "markdown",
   "metadata": {},
   "source": [
    "# Taller: Construcción e implementación de árboles de decisión y métodos de ensamblaje\n",
    "\n",
    "En este taller podrá poner en práctica los sus conocimientos sobre construcción e implementación de árboles de decisión y métodos de ensamblajes. El taller está constituido por 9 puntos, 5 relacionados con árboles de decisión (parte A) y 4 con métodos de ensamblaje (parte B)."
   ]
  },
  {
   "cell_type": "markdown",
   "metadata": {},
   "source": [
    "## Parte A - Árboles de decisión\n",
    "\n",
    "En esta parte del taller se usará el conjunto de datos de Capital Bikeshare de Kaggle, donde cada observación representa el alquiler de una bicicleta durante una hora y día determinado. Para más detalles puede visitar los siguientes enlaces: [datos](https://github.com/justmarkham/DAT8/blob/master/data/bikeshare.csv), [dicccionario de datos](https://www.kaggle.com/c/bike-sharing-demand/data)."
   ]
  },
  {
   "cell_type": "markdown",
   "metadata": {},
   "source": [
    "### Datos prestamo de bicicletas"
   ]
  },
  {
   "cell_type": "code",
   "execution_count": 31,
   "metadata": {},
   "outputs": [],
   "source": [
    "import warnings\n",
    "warnings.filterwarnings('ignore')"
   ]
  },
  {
   "cell_type": "code",
   "execution_count": 32,
   "metadata": {},
   "outputs": [],
   "source": [
    "# Importación de librerías\n",
    "%matplotlib inline\n",
    "import pandas as pd\n",
    "import numpy as np\n",
    "from sklearn.model_selection import cross_val_score\n",
    "from sklearn.linear_model import LinearRegression\n",
    "from sklearn.tree import DecisionTreeRegressor, export_graphviz"
   ]
  },
  {
   "cell_type": "code",
   "execution_count": 33,
   "metadata": {},
   "outputs": [
    {
     "data": {
      "text/html": [
       "<div>\n",
       "<style scoped>\n",
       "    .dataframe tbody tr th:only-of-type {\n",
       "        vertical-align: middle;\n",
       "    }\n",
       "\n",
       "    .dataframe tbody tr th {\n",
       "        vertical-align: top;\n",
       "    }\n",
       "\n",
       "    .dataframe thead th {\n",
       "        text-align: right;\n",
       "    }\n",
       "</style>\n",
       "<table border=\"1\" class=\"dataframe\">\n",
       "  <thead>\n",
       "    <tr style=\"text-align: right;\">\n",
       "      <th></th>\n",
       "      <th>season</th>\n",
       "      <th>holiday</th>\n",
       "      <th>workingday</th>\n",
       "      <th>weather</th>\n",
       "      <th>temp</th>\n",
       "      <th>atemp</th>\n",
       "      <th>humidity</th>\n",
       "      <th>windspeed</th>\n",
       "      <th>casual</th>\n",
       "      <th>registered</th>\n",
       "      <th>total</th>\n",
       "      <th>hour</th>\n",
       "    </tr>\n",
       "    <tr>\n",
       "      <th>datetime</th>\n",
       "      <th></th>\n",
       "      <th></th>\n",
       "      <th></th>\n",
       "      <th></th>\n",
       "      <th></th>\n",
       "      <th></th>\n",
       "      <th></th>\n",
       "      <th></th>\n",
       "      <th></th>\n",
       "      <th></th>\n",
       "      <th></th>\n",
       "      <th></th>\n",
       "    </tr>\n",
       "  </thead>\n",
       "  <tbody>\n",
       "    <tr>\n",
       "      <th>2011-01-01 00:00:00</th>\n",
       "      <td>1</td>\n",
       "      <td>0</td>\n",
       "      <td>0</td>\n",
       "      <td>1</td>\n",
       "      <td>9.84</td>\n",
       "      <td>14.395</td>\n",
       "      <td>81</td>\n",
       "      <td>0.0000</td>\n",
       "      <td>3</td>\n",
       "      <td>13</td>\n",
       "      <td>16</td>\n",
       "      <td>0</td>\n",
       "    </tr>\n",
       "    <tr>\n",
       "      <th>2011-01-01 01:00:00</th>\n",
       "      <td>1</td>\n",
       "      <td>0</td>\n",
       "      <td>0</td>\n",
       "      <td>1</td>\n",
       "      <td>9.02</td>\n",
       "      <td>13.635</td>\n",
       "      <td>80</td>\n",
       "      <td>0.0000</td>\n",
       "      <td>8</td>\n",
       "      <td>32</td>\n",
       "      <td>40</td>\n",
       "      <td>1</td>\n",
       "    </tr>\n",
       "    <tr>\n",
       "      <th>2011-01-01 02:00:00</th>\n",
       "      <td>1</td>\n",
       "      <td>0</td>\n",
       "      <td>0</td>\n",
       "      <td>1</td>\n",
       "      <td>9.02</td>\n",
       "      <td>13.635</td>\n",
       "      <td>80</td>\n",
       "      <td>0.0000</td>\n",
       "      <td>5</td>\n",
       "      <td>27</td>\n",
       "      <td>32</td>\n",
       "      <td>2</td>\n",
       "    </tr>\n",
       "    <tr>\n",
       "      <th>2011-01-01 03:00:00</th>\n",
       "      <td>1</td>\n",
       "      <td>0</td>\n",
       "      <td>0</td>\n",
       "      <td>1</td>\n",
       "      <td>9.84</td>\n",
       "      <td>14.395</td>\n",
       "      <td>75</td>\n",
       "      <td>0.0000</td>\n",
       "      <td>3</td>\n",
       "      <td>10</td>\n",
       "      <td>13</td>\n",
       "      <td>3</td>\n",
       "    </tr>\n",
       "    <tr>\n",
       "      <th>2011-01-01 04:00:00</th>\n",
       "      <td>1</td>\n",
       "      <td>0</td>\n",
       "      <td>0</td>\n",
       "      <td>1</td>\n",
       "      <td>9.84</td>\n",
       "      <td>14.395</td>\n",
       "      <td>75</td>\n",
       "      <td>0.0000</td>\n",
       "      <td>0</td>\n",
       "      <td>1</td>\n",
       "      <td>1</td>\n",
       "      <td>4</td>\n",
       "    </tr>\n",
       "    <tr>\n",
       "      <th>...</th>\n",
       "      <td>...</td>\n",
       "      <td>...</td>\n",
       "      <td>...</td>\n",
       "      <td>...</td>\n",
       "      <td>...</td>\n",
       "      <td>...</td>\n",
       "      <td>...</td>\n",
       "      <td>...</td>\n",
       "      <td>...</td>\n",
       "      <td>...</td>\n",
       "      <td>...</td>\n",
       "      <td>...</td>\n",
       "    </tr>\n",
       "    <tr>\n",
       "      <th>2012-12-19 19:00:00</th>\n",
       "      <td>4</td>\n",
       "      <td>0</td>\n",
       "      <td>1</td>\n",
       "      <td>1</td>\n",
       "      <td>15.58</td>\n",
       "      <td>19.695</td>\n",
       "      <td>50</td>\n",
       "      <td>26.0027</td>\n",
       "      <td>7</td>\n",
       "      <td>329</td>\n",
       "      <td>336</td>\n",
       "      <td>19</td>\n",
       "    </tr>\n",
       "    <tr>\n",
       "      <th>2012-12-19 20:00:00</th>\n",
       "      <td>4</td>\n",
       "      <td>0</td>\n",
       "      <td>1</td>\n",
       "      <td>1</td>\n",
       "      <td>14.76</td>\n",
       "      <td>17.425</td>\n",
       "      <td>57</td>\n",
       "      <td>15.0013</td>\n",
       "      <td>10</td>\n",
       "      <td>231</td>\n",
       "      <td>241</td>\n",
       "      <td>20</td>\n",
       "    </tr>\n",
       "    <tr>\n",
       "      <th>2012-12-19 21:00:00</th>\n",
       "      <td>4</td>\n",
       "      <td>0</td>\n",
       "      <td>1</td>\n",
       "      <td>1</td>\n",
       "      <td>13.94</td>\n",
       "      <td>15.910</td>\n",
       "      <td>61</td>\n",
       "      <td>15.0013</td>\n",
       "      <td>4</td>\n",
       "      <td>164</td>\n",
       "      <td>168</td>\n",
       "      <td>21</td>\n",
       "    </tr>\n",
       "    <tr>\n",
       "      <th>2012-12-19 22:00:00</th>\n",
       "      <td>4</td>\n",
       "      <td>0</td>\n",
       "      <td>1</td>\n",
       "      <td>1</td>\n",
       "      <td>13.94</td>\n",
       "      <td>17.425</td>\n",
       "      <td>61</td>\n",
       "      <td>6.0032</td>\n",
       "      <td>12</td>\n",
       "      <td>117</td>\n",
       "      <td>129</td>\n",
       "      <td>22</td>\n",
       "    </tr>\n",
       "    <tr>\n",
       "      <th>2012-12-19 23:00:00</th>\n",
       "      <td>4</td>\n",
       "      <td>0</td>\n",
       "      <td>1</td>\n",
       "      <td>1</td>\n",
       "      <td>13.12</td>\n",
       "      <td>16.665</td>\n",
       "      <td>66</td>\n",
       "      <td>8.9981</td>\n",
       "      <td>4</td>\n",
       "      <td>84</td>\n",
       "      <td>88</td>\n",
       "      <td>23</td>\n",
       "    </tr>\n",
       "  </tbody>\n",
       "</table>\n",
       "<p>10886 rows × 12 columns</p>\n",
       "</div>"
      ],
      "text/plain": [
       "                     season  holiday  workingday  weather   temp   atemp  \\\n",
       "datetime                                                                   \n",
       "2011-01-01 00:00:00       1        0           0        1   9.84  14.395   \n",
       "2011-01-01 01:00:00       1        0           0        1   9.02  13.635   \n",
       "2011-01-01 02:00:00       1        0           0        1   9.02  13.635   \n",
       "2011-01-01 03:00:00       1        0           0        1   9.84  14.395   \n",
       "2011-01-01 04:00:00       1        0           0        1   9.84  14.395   \n",
       "...                     ...      ...         ...      ...    ...     ...   \n",
       "2012-12-19 19:00:00       4        0           1        1  15.58  19.695   \n",
       "2012-12-19 20:00:00       4        0           1        1  14.76  17.425   \n",
       "2012-12-19 21:00:00       4        0           1        1  13.94  15.910   \n",
       "2012-12-19 22:00:00       4        0           1        1  13.94  17.425   \n",
       "2012-12-19 23:00:00       4        0           1        1  13.12  16.665   \n",
       "\n",
       "                     humidity  windspeed  casual  registered  total  hour  \n",
       "datetime                                                                   \n",
       "2011-01-01 00:00:00        81     0.0000       3          13     16     0  \n",
       "2011-01-01 01:00:00        80     0.0000       8          32     40     1  \n",
       "2011-01-01 02:00:00        80     0.0000       5          27     32     2  \n",
       "2011-01-01 03:00:00        75     0.0000       3          10     13     3  \n",
       "2011-01-01 04:00:00        75     0.0000       0           1      1     4  \n",
       "...                       ...        ...     ...         ...    ...   ...  \n",
       "2012-12-19 19:00:00        50    26.0027       7         329    336    19  \n",
       "2012-12-19 20:00:00        57    15.0013      10         231    241    20  \n",
       "2012-12-19 21:00:00        61    15.0013       4         164    168    21  \n",
       "2012-12-19 22:00:00        61     6.0032      12         117    129    22  \n",
       "2012-12-19 23:00:00        66     8.9981       4          84     88    23  \n",
       "\n",
       "[10886 rows x 12 columns]"
      ]
     },
     "execution_count": 33,
     "metadata": {},
     "output_type": "execute_result"
    }
   ],
   "source": [
    "# Lectura de la información de archivo .csv\n",
    "bikes = pd.read_csv('bikeshare.csv', index_col='datetime', parse_dates=True)\n",
    "# Renombrar variable \"count\" a \"total\"\n",
    "bikes.rename(columns={'count':'total'}, inplace=True)\n",
    "# Crear la hora como una variable \n",
    "bikes['hour'] = bikes.index.hour\n",
    "# Visualización\n",
    "bikes"
   ]
  },
  {
   "cell_type": "markdown",
   "metadata": {},
   "source": [
    "### Punto 1 - Análisis descriptivo\n",
    "\n",
    "Ejecute las celdas 1.1 y 1.2. A partir de los resultados realice un análisis descriptivo sobre las variables hour y workingday, escriba sus inferencias sobre los datos. Para complementar su análisis puede usar métricas como máximo, mínimo, percentiles entre otros."
   ]
  },
  {
   "cell_type": "code",
   "execution_count": 34,
   "metadata": {},
   "outputs": [
    {
     "data": {
      "text/plain": [
       "workingday\n",
       "0    188.506621\n",
       "1    193.011873\n",
       "Name: total, dtype: float64"
      ]
     },
     "execution_count": 34,
     "metadata": {},
     "output_type": "execute_result"
    }
   ],
   "source": [
    "# Celda 1.1\n",
    "bikes.groupby('workingday').total.mean()"
   ]
  },
  {
   "cell_type": "code",
   "execution_count": 6,
   "metadata": {
    "scrolled": true
   },
   "outputs": [
    {
     "data": {
      "text/plain": [
       "hour\n",
       "0      55.138462\n",
       "1      33.859031\n",
       "2      22.899554\n",
       "3      11.757506\n",
       "4       6.407240\n",
       "5      19.767699\n",
       "6      76.259341\n",
       "7     213.116484\n",
       "8     362.769231\n",
       "9     221.780220\n",
       "10    175.092308\n",
       "11    210.674725\n",
       "12    256.508772\n",
       "13    257.787281\n",
       "14    243.442982\n",
       "15    254.298246\n",
       "16    316.372807\n",
       "17    468.765351\n",
       "18    430.859649\n",
       "19    315.278509\n",
       "20    228.517544\n",
       "21    173.370614\n",
       "22    133.576754\n",
       "23     89.508772\n",
       "Name: total, dtype: float64"
      ]
     },
     "execution_count": 6,
     "metadata": {},
     "output_type": "execute_result"
    }
   ],
   "source": [
    "# Celda 1.2\n",
    "bikes.groupby('hour').total.mean()"
   ]
  },
  {
   "cell_type": "code",
   "execution_count": 53,
   "metadata": {
    "scrolled": true
   },
   "outputs": [
    {
     "data": {
      "text/html": [
       "<div>\n",
       "<style scoped>\n",
       "    .dataframe tbody tr th:only-of-type {\n",
       "        vertical-align: middle;\n",
       "    }\n",
       "\n",
       "    .dataframe tbody tr th {\n",
       "        vertical-align: top;\n",
       "    }\n",
       "\n",
       "    .dataframe thead th {\n",
       "        text-align: right;\n",
       "    }\n",
       "</style>\n",
       "<table border=\"1\" class=\"dataframe\">\n",
       "  <thead>\n",
       "    <tr style=\"text-align: right;\">\n",
       "      <th></th>\n",
       "      <th>count</th>\n",
       "      <th>mean</th>\n",
       "      <th>std</th>\n",
       "      <th>min</th>\n",
       "      <th>25%</th>\n",
       "      <th>50%</th>\n",
       "      <th>75%</th>\n",
       "      <th>max</th>\n",
       "    </tr>\n",
       "    <tr>\n",
       "      <th>workingday</th>\n",
       "      <th></th>\n",
       "      <th></th>\n",
       "      <th></th>\n",
       "      <th></th>\n",
       "      <th></th>\n",
       "      <th></th>\n",
       "      <th></th>\n",
       "      <th></th>\n",
       "    </tr>\n",
       "  </thead>\n",
       "  <tbody>\n",
       "    <tr>\n",
       "      <th>0</th>\n",
       "      <td>3474.0</td>\n",
       "      <td>188.506621</td>\n",
       "      <td>173.724015</td>\n",
       "      <td>1.0</td>\n",
       "      <td>44.0</td>\n",
       "      <td>128.0</td>\n",
       "      <td>304.0</td>\n",
       "      <td>783.0</td>\n",
       "    </tr>\n",
       "    <tr>\n",
       "      <th>1</th>\n",
       "      <td>7412.0</td>\n",
       "      <td>193.011873</td>\n",
       "      <td>184.513659</td>\n",
       "      <td>1.0</td>\n",
       "      <td>41.0</td>\n",
       "      <td>151.0</td>\n",
       "      <td>277.0</td>\n",
       "      <td>977.0</td>\n",
       "    </tr>\n",
       "  </tbody>\n",
       "</table>\n",
       "</div>"
      ],
      "text/plain": [
       "             count        mean         std  min   25%    50%    75%    max\n",
       "workingday                                                                \n",
       "0           3474.0  188.506621  173.724015  1.0  44.0  128.0  304.0  783.0\n",
       "1           7412.0  193.011873  184.513659  1.0  41.0  151.0  277.0  977.0"
      ]
     },
     "execution_count": 53,
     "metadata": {},
     "output_type": "execute_result"
    }
   ],
   "source": [
    "bikes.groupby('workingday').total.describe()"
   ]
  },
  {
   "cell_type": "markdown",
   "metadata": {},
   "source": [
    "#### Analisis\n",
    "Analizando los datos de las horas, se puede observar que las personas compran un mayor numero de bicicletas en una franja horaria de 12 del medio día a 8 de la noche. Igualmente observando los datos de \"workingday\" se observa que los promedios entre día laboral y fin de semana son muy similares, a pesar de que se encuentra un mayor número de datos en día laboral, relacionado a que son 5 días a la semana, la compra de bicicletas durante estos 5 días, difiere en promedio solo en 5 bicicletas en relación con el fin de semana, lo que indica que la proporción de bicicletas por día compradas el fin de semana es bastante alta. "
   ]
  },
  {
   "cell_type": "markdown",
   "metadata": {},
   "source": [
    "### Punto 2 - Análisis de gráficos\n",
    "\n",
    "Primero ejecute la celda 2.1 y asegúrese de comprender el código y el resultado. Luego, en cada una de celdas 2.2 y 2.3 escriba un código que genere una gráfica de las rentas promedio por hora cuando la variable \"workingday\" es igual a 0 e igual a 1, respectivamente. Analice y escriba sus hallazgos."
   ]
  },
  {
   "cell_type": "code",
   "execution_count": 7,
   "metadata": {},
   "outputs": [
    {
     "data": {
      "text/plain": [
       "<matplotlib.axes._subplots.AxesSubplot at 0x7f46d25ac910>"
      ]
     },
     "execution_count": 7,
     "metadata": {},
     "output_type": "execute_result"
    },
    {
     "data": {
      "image/png": "[encoded data removed]",
      "text/plain": [
       "<Figure size 432x288 with 1 Axes>"
      ]
     },
     "metadata": {
      "needs_background": "light"
     },
     "output_type": "display_data"
    }
   ],
   "source": [
    "# Celda 2.1 - rentas promedio para cada valor de la variable \"hour\"\n",
    "bikes.groupby('hour').total.mean().plot()"
   ]
  },
  {
   "cell_type": "code",
   "execution_count": 36,
   "metadata": {},
   "outputs": [
    {
     "data": {
      "text/plain": [
       "<matplotlib.axes._subplots.AxesSubplot at 0x7f46cfb5a790>"
      ]
     },
     "execution_count": 36,
     "metadata": {},
     "output_type": "execute_result"
    },
    {
     "data": {
      "image/png": "[encoded data removed]",
      "text/plain": [
       "<Figure size 432x288 with 1 Axes>"
      ]
     },
     "metadata": {
      "needs_background": "light"
     },
     "output_type": "display_data"
    }
   ],
   "source": [
    "# Celda 2.2 - \"workingday\"=0 escriba su código y hallazgos \n",
    "filtro_0 = bikes[\"workingday\"] == 0\n",
    "workingday_0 = bikes[filtro_0]\n",
    "\n",
    "workingday_0.groupby('hour').total.mean().plot()"
   ]
  },
  {
   "cell_type": "code",
   "execution_count": 37,
   "metadata": {
    "scrolled": true
   },
   "outputs": [
    {
     "data": {
      "text/plain": [
       "<matplotlib.axes._subplots.AxesSubplot at 0x7f46cfb08b90>"
      ]
     },
     "execution_count": 37,
     "metadata": {},
     "output_type": "execute_result"
    },
    {
     "data": {
      "image/png": "[encoded data removed]",
      "text/plain": [
       "<Figure size 432x288 with 1 Axes>"
      ]
     },
     "metadata": {
      "needs_background": "light"
     },
     "output_type": "display_data"
    }
   ],
   "source": [
    "# Celda 2.3 - \"workingday\"=1 escriba su código y hallazgos \n",
    "\n",
    "filtro_1 = bikes[\"workingday\"] == 1\n",
    "workingday_1 = bikes[filtro_1]\n",
    "\n",
    "workingday_1.groupby('hour').total.mean().plot()"
   ]
  },
  {
   "cell_type": "markdown",
   "metadata": {},
   "source": [
    "#### Analisis\n",
    "Se observa un comportamiento totalmente diferente entre la compra de bicicletas en días laborales y en días de fin de semana, en la segunda gráfica que representa la compra en días laborales, se observa un comportamiento relacionado con el horario laboral, puesto que se observa que los picos en los que más se compran bicicletas es antes de las 7 de la mañana y después de las 5 de la tarde. Por el contrario en la gráfica de la compra de bicicletas en días de fin de semana se observa un crecimiento constante a lo largo del día, con un punto máximo entre las 12 del medio día y las 3 de la tarde. "
   ]
  },
  {
   "cell_type": "markdown",
   "metadata": {},
   "source": [
    "### Punto 3 - Regresión lineal\n",
    "En la celda 3 ajuste un modelo de regresión lineal a todo el conjunto de datos, utilizando \"total\" como variable de respuesta y \"hour\" y \"workingday\" como las únicas variables predictoras. Luego, imprima los coeficientes e interprételos. ¿Cuáles son las limitaciones de la regresión lineal en este caso?"
   ]
  },
  {
   "cell_type": "code",
   "execution_count": 10,
   "metadata": {},
   "outputs": [
    {
     "name": "stdout",
     "output_type": "stream",
     "text": [
      "Intercept: 67.7059502619161\n",
      "Coeficientes: [10.49206282  4.07248627]\n"
     ]
    }
   ],
   "source": [
    "# Celda 3\n",
    "X = bikes[['hour','workingday']]\n",
    "y = bikes['total']\n",
    "\n",
    "Reg = LinearRegression()\n",
    "Reg.fit(X,y)\n",
    "\n",
    "print(\"Intercepto:\", Reg.intercept_)\n",
    "print(\"Coeficientes:\", Reg.coef_)"
   ]
  },
  {
   "cell_type": "markdown",
   "metadata": {},
   "source": [
    "#### Analisis \n",
    "Con este modelo de regresión lineal se obtiene un intercepto de 67,7. Se observa que según el modelo de regresión lineal, por cada incremento en la variable \"hora\" se tiene un aumento 10,49 y por cada día laboral se tendrá un adicional de 4,07. A simple vista se puede observar que la regresión lineal no es la mejor opción para estos datos, puesto que en las gráficas anteriores se observa como la relación entre las variables predictoras y la variable de respuesta no es lineal y se acerca más a una relación cuadratica. Esto justifica el hecho de que el coeficiente de la variable \"workingday\" indique que se tendrá un número de ventas mayor en día laboral, siendo al contrario, puesto que los fines de semana se vende un mayor número de bicicletas por día.  "
   ]
  },
  {
   "cell_type": "markdown",
   "metadata": {},
   "source": [
    "### Punto 4 - Árbol de decisión manual\n",
    "En la celda 4 cree un árbol de decisiones para pronosticar la variable \"total\" iterando **manualmente** sobre las variables \"hour\" y  \"workingday\". El árbol debe tener al menos 6 nodos finales."
   ]
  },
  {
   "cell_type": "code",
   "execution_count": 55,
   "metadata": {},
   "outputs": [],
   "source": [
    "# Celda 4\n",
    "\n",
    "# Importación de modelos de sklearn \n",
    "from sklearn.model_selection import train_test_split\n",
    "import matplotlib.pyplot as plt\n",
    "from sklearn.model_selection import cross_val_score\n",
    "from sklearn.tree import DecisionTreeClassifier\n",
    "\n",
    "XTotal = bikes[[\"hour\",\"workingday\"]]\n",
    "yTotal = bikes[[\"total\"]]"
   ]
  },
  {
   "cell_type": "code",
   "execution_count": 56,
   "metadata": {},
   "outputs": [],
   "source": [
    "# Definición de parámetros y criterios de parada\n",
    "max_depth = None # Maxima profundidad\n",
    "num_pct = 10 # Numero de percentiles\n",
    "max_features = None # Maximo numero de features\n",
    "min_gain=0.001 # Ganancia mínima"
   ]
  },
  {
   "cell_type": "code",
   "execution_count": 57,
   "metadata": {},
   "outputs": [
    {
     "name": "stdout",
     "output_type": "stream",
     "text": [
      "hour\n"
     ]
    }
   ],
   "source": [
    "# Impresión variable a usar (hour)\n",
    "j = 0\n",
    "print(XTotal.columns[j])"
   ]
  },
  {
   "cell_type": "code",
   "execution_count": 58,
   "metadata": {},
   "outputs": [
    {
     "data": {
      "text/plain": [
       "array([ 0.,  2.,  4.,  7.,  9., 12., 14., 16., 19., 21.])"
      ]
     },
     "execution_count": 58,
     "metadata": {},
     "output_type": "execute_result"
    }
   ],
   "source": [
    "# División de la variable hours en num_ctp puntos (parámetro definido anteriormente) para obtener posibles puntos de corte\n",
    "splits = np.percentile(XTotal.iloc[:, j], np.arange(0, 100, 100.0 / num_pct).tolist())\n",
    "splits = np.unique(splits)\n",
    "splits"
   ]
  },
  {
   "cell_type": "code",
   "execution_count": 42,
   "metadata": {},
   "outputs": [],
   "source": [
    "# Definición de la función que calcula el gini index\n",
    "def gini(y):\n",
    "    if y.shape[0] == 0:\n",
    "        return 0\n",
    "    else:\n",
    "        return 1 - (y.mean()**2 + (1 - y.mean())**2)"
   ]
  },
  {
   "cell_type": "code",
   "execution_count": 43,
   "metadata": {},
   "outputs": [],
   "source": [
    "# Definición de la función gini_imputiry para calular la ganancia de una variable predictora j dado el punto de corte k\n",
    "def gini_impurity(X_col, y, split):\n",
    "    \n",
    "    filter_l = X_col < split\n",
    "    y_l = y.loc[filter_l]\n",
    "    y_r = y.loc[~filter_l]\n",
    "    \n",
    "    n_l = y_l.shape[0]\n",
    "    n_r = y_r.shape[0]\n",
    "    \n",
    "    gini_y = gini(y)\n",
    "    gini_l = gini(y_l)\n",
    "    gini_r = gini(y_r)\n",
    "    \n",
    "    gini_impurity_ = gini_y - (n_l / (n_l + n_r) * gini_l + n_r / (n_l + n_r) * gini_r)\n",
    "    \n",
    "    return gini_impurity_"
   ]
  },
  {
   "cell_type": "code",
   "execution_count": 44,
   "metadata": {},
   "outputs": [],
   "source": [
    "# Definición de la función best_split para calcular cuál es la mejor variable y punto de corte para hacer la bifurcación del árbol\n",
    "def best_split(X, y, num_pct=10):\n",
    "    \n",
    "    features = range(X.shape[1])\n",
    "    \n",
    "    best_split = [0, 0, 0]  # j, split, gain\n",
    "    \n",
    "    # Para todas las varibles \n",
    "    for j in features:\n",
    "        \n",
    "        splits = np.percentile(X.iloc[:, j], np.arange(0, 100, 100.0 / (num_pct+1)).tolist())\n",
    "        splits = np.unique(splits)[1:]\n",
    "        \n",
    "        # Para cada partición\n",
    "        for split in splits:\n",
    "            gain = gini_impurity(X.iloc[:, j], y, split)\n",
    "                        \n",
    "            if gain > best_split[2]:\n",
    "                best_split = [j, split, gain]\n",
    "    \n",
    "    return best_split"
   ]
  },
  {
   "cell_type": "code",
   "execution_count": 45,
   "metadata": {},
   "outputs": [
    {
     "ename": "ValueError",
     "evalue": "The truth value of a Series is ambiguous. Use a.empty, a.bool(), a.item(), a.any() or a.all().",
     "output_type": "error",
     "traceback": [
      "\u001b[0;31m---------------------------------------------------------------------------\u001b[0m",
      "\u001b[0;31mValueError\u001b[0m                                Traceback (most recent call last)",
      "\u001b[0;32m<ipython-input-45-67b16f50149f>\u001b[0m in \u001b[0;36m<module>\u001b[0;34m\u001b[0m\n\u001b[1;32m      1\u001b[0m \u001b[0;31m# Obtención de la variable 'j', su punto de corte 'split' y su ganancia 'gain'\u001b[0m\u001b[0;34m\u001b[0m\u001b[0;34m\u001b[0m\u001b[0;34m\u001b[0m\u001b[0m\n\u001b[0;32m----> 2\u001b[0;31m \u001b[0mj\u001b[0m\u001b[0;34m,\u001b[0m \u001b[0msplit\u001b[0m\u001b[0;34m,\u001b[0m \u001b[0mgain\u001b[0m \u001b[0;34m=\u001b[0m \u001b[0mbest_split\u001b[0m\u001b[0;34m(\u001b[0m\u001b[0mXTotal\u001b[0m\u001b[0;34m,\u001b[0m \u001b[0myTotal\u001b[0m\u001b[0;34m,\u001b[0m \u001b[0;36m5\u001b[0m\u001b[0;34m)\u001b[0m\u001b[0;34m\u001b[0m\u001b[0;34m\u001b[0m\u001b[0m\n\u001b[0m\u001b[1;32m      3\u001b[0m \u001b[0mj\u001b[0m\u001b[0;34m,\u001b[0m \u001b[0msplit\u001b[0m\u001b[0;34m,\u001b[0m \u001b[0mgain\u001b[0m\u001b[0;34m\u001b[0m\u001b[0;34m\u001b[0m\u001b[0m\n",
      "\u001b[0;32m<ipython-input-44-17c949b792da>\u001b[0m in \u001b[0;36mbest_split\u001b[0;34m(X, y, num_pct)\u001b[0m\n\u001b[1;32m     16\u001b[0m             \u001b[0mgain\u001b[0m \u001b[0;34m=\u001b[0m \u001b[0mgini_impurity\u001b[0m\u001b[0;34m(\u001b[0m\u001b[0mX\u001b[0m\u001b[0;34m.\u001b[0m\u001b[0miloc\u001b[0m\u001b[0;34m[\u001b[0m\u001b[0;34m:\u001b[0m\u001b[0;34m,\u001b[0m \u001b[0mj\u001b[0m\u001b[0;34m]\u001b[0m\u001b[0;34m,\u001b[0m \u001b[0my\u001b[0m\u001b[0;34m,\u001b[0m \u001b[0msplit\u001b[0m\u001b[0;34m)\u001b[0m\u001b[0;34m\u001b[0m\u001b[0;34m\u001b[0m\u001b[0m\n\u001b[1;32m     17\u001b[0m \u001b[0;34m\u001b[0m\u001b[0m\n\u001b[0;32m---> 18\u001b[0;31m             \u001b[0;32mif\u001b[0m \u001b[0mgain\u001b[0m \u001b[0;34m>\u001b[0m \u001b[0mbest_split\u001b[0m\u001b[0;34m[\u001b[0m\u001b[0;36m2\u001b[0m\u001b[0;34m]\u001b[0m\u001b[0;34m:\u001b[0m\u001b[0;34m\u001b[0m\u001b[0;34m\u001b[0m\u001b[0m\n\u001b[0m\u001b[1;32m     19\u001b[0m                 \u001b[0mbest_split\u001b[0m \u001b[0;34m=\u001b[0m \u001b[0;34m[\u001b[0m\u001b[0mj\u001b[0m\u001b[0;34m,\u001b[0m \u001b[0msplit\u001b[0m\u001b[0;34m,\u001b[0m \u001b[0mgain\u001b[0m\u001b[0;34m]\u001b[0m\u001b[0;34m\u001b[0m\u001b[0;34m\u001b[0m\u001b[0m\n\u001b[1;32m     20\u001b[0m \u001b[0;34m\u001b[0m\u001b[0m\n",
      "\u001b[0;32m/opt/conda/lib/python3.7/site-packages/pandas/core/generic.py\u001b[0m in \u001b[0;36m__nonzero__\u001b[0;34m(self)\u001b[0m\n\u001b[1;32m   1477\u001b[0m     \u001b[0;32mdef\u001b[0m \u001b[0m__nonzero__\u001b[0m\u001b[0;34m(\u001b[0m\u001b[0mself\u001b[0m\u001b[0;34m)\u001b[0m\u001b[0;34m:\u001b[0m\u001b[0;34m\u001b[0m\u001b[0;34m\u001b[0m\u001b[0m\n\u001b[1;32m   1478\u001b[0m         raise ValueError(\n\u001b[0;32m-> 1479\u001b[0;31m             \u001b[0;34mf\"The truth value of a {type(self).__name__} is ambiguous. \"\u001b[0m\u001b[0;34m\u001b[0m\u001b[0;34m\u001b[0m\u001b[0m\n\u001b[0m\u001b[1;32m   1480\u001b[0m             \u001b[0;34m\"Use a.empty, a.bool(), a.item(), a.any() or a.all().\"\u001b[0m\u001b[0;34m\u001b[0m\u001b[0;34m\u001b[0m\u001b[0m\n\u001b[1;32m   1481\u001b[0m         )\n",
      "\u001b[0;31mValueError\u001b[0m: The truth value of a Series is ambiguous. Use a.empty, a.bool(), a.item(), a.any() or a.all()."
     ]
    }
   ],
   "source": [
    "# Obtención de la variable 'j', su punto de corte 'split' y su ganancia 'gain'\n",
    "j, split, gain = best_split(XTotal, yTotal, 5)\n",
    "j, split, gain"
   ]
  },
  {
   "cell_type": "code",
   "execution_count": null,
   "metadata": {},
   "outputs": [],
   "source": []
  },
  {
   "cell_type": "markdown",
   "metadata": {},
   "source": [
    "### Punto 5 - Árbol de decisión con librería\n",
    "En la celda 5 entrene un árbol de decisiones con la **librería sklearn**, usando las variables predictoras \"hour\" y \"workingday\" y calibre los parámetros que considere conveniente para obtener un mejor desempeño. Comente el desempeño del modelo con alguna métrica de desempeño de modelos de clasificación y compare desempeño con el modelo del punto 3."
   ]
  },
  {
   "cell_type": "code",
   "execution_count": 46,
   "metadata": {},
   "outputs": [],
   "source": [
    "# Celda 5\n",
    "\n",
    "# Lista de valores para calibrar el criterio de parada de máxima profundidad (max_depth)\n",
    "max_depth_range = range(1, 40)\n",
    "\n",
    "MSE_scores = []\n",
    "\n",
    "for depth in max_depth_range:\n",
    "    # Definición del árbol de decisión usando DecisionTreeClassifier de la libreria sklearn\n",
    "    reg = DecisionTreeRegressor(max_depth=depth, random_state=1)\n",
    "    MSE_scores.append(cross_val_score(reg, XTotal, yTotal, cv=10, scoring='neg_mean_squared_error').mean()*(-1))\n",
    "    "
   ]
  },
  {
   "cell_type": "code",
   "execution_count": 47,
   "metadata": {},
   "outputs": [
    {
     "data": {
      "text/plain": [
       "Text(0, 0.5, 'MSE')"
      ]
     },
     "execution_count": 47,
     "metadata": {},
     "output_type": "execute_result"
    },
    {
     "data": {
      "image/png": "[encoded data removed]",
      "text/plain": [
       "<Figure size 432x288 with 1 Axes>"
      ]
     },
     "metadata": {
      "needs_background": "light"
     },
     "output_type": "display_data"
    }
   ],
   "source": [
    "# Gráfica max_depth versus MSE (error del modelo)\n",
    "plt.plot(max_depth_range, MSE_scores)\n",
    "plt.xlabel('max_depth')\n",
    "plt.ylabel('MSE')"
   ]
  },
  {
   "cell_type": "code",
   "execution_count": 60,
   "metadata": {},
   "outputs": [
    {
     "name": "stdout",
     "output_type": "stream",
     "text": [
      "Con una profundidad optima de  9  se obtiene un MSE de:  13143.121883295113\n"
     ]
    }
   ],
   "source": [
    "# MSE óptmimo (desempeño del modelo) y su correspondiente max_depth\n",
    "#sorted(zip(MSE_scores, max_depth_range))[::-1][0]\n",
    "\n",
    "mse_min = min(MSE_scores)\n",
    "profundidad = MSE_scores.index(mse_min)\n",
    "print(\"Con una profundidad optima de \",profundidad,\" se obtiene un MSE de: \",MSE_scores[profundidad])\n"
   ]
  },
  {
   "cell_type": "code",
   "execution_count": 63,
   "metadata": {},
   "outputs": [
    {
     "data": {
      "text/plain": [
       "DecisionTreeClassifier(ccp_alpha=0.0, class_weight=None, criterion='gini',\n",
       "                       max_depth=9, max_features=None, max_leaf_nodes=None,\n",
       "                       min_impurity_decrease=0.0, min_impurity_split=None,\n",
       "                       min_samples_leaf=1, min_samples_split=2,\n",
       "                       min_weight_fraction_leaf=0.0, presort='deprecated',\n",
       "                       random_state=1, splitter='best')"
      ]
     },
     "execution_count": 63,
     "metadata": {},
     "output_type": "execute_result"
    }
   ],
   "source": [
    "# max_depth=9 fue la mejor profundidad, se ajusta un árbol usando este valor \n",
    "reg = DecisionTreeClassifier(max_depth=profundidad, random_state=1)\n",
    "reg.fit(XTotal, yTotal)"
   ]
  },
  {
   "cell_type": "code",
   "execution_count": 77,
   "metadata": {},
   "outputs": [
    {
     "name": "stdout",
     "output_type": "stream",
     "text": [
      "El MSE para el modelo es de:  20875.44561499014\n"
     ]
    }
   ],
   "source": [
    "# Impresión de resultados de desemepeño del árbol de decisión\n",
    "print(\"El MSE para el modelo es de: \", cross_val_score(reg, XTotal, yTotal, cv=10 , scoring='neg_mean_squared_error').mean()*(-1))\n",
    "\n"
   ]
  },
  {
   "cell_type": "markdown",
   "metadata": {},
   "source": []
  },
  {
   "cell_type": "markdown",
   "metadata": {},
   "source": [
    "## Parte B - Métodos de ensamblajes\n",
    "En esta parte del taller se usará el conjunto de datos de Popularidad de Noticias Online. El objetivo es predecir la cantidad de reacciones en redes sociales (popularidad) de la notica. Para más detalles puede visitar el sigueinte enlace: [datos](https://archive.ics.uci.edu/ml/datasets/online+news+popularity)."
   ]
  },
  {
   "cell_type": "markdown",
   "metadata": {},
   "source": [
    "### Datos popularidad de noticias"
   ]
  },
  {
   "cell_type": "code",
   "execution_count": 48,
   "metadata": {},
   "outputs": [
    {
     "data": {
      "text/html": [
       "<div>\n",
       "<style scoped>\n",
       "    .dataframe tbody tr th:only-of-type {\n",
       "        vertical-align: middle;\n",
       "    }\n",
       "\n",
       "    .dataframe tbody tr th {\n",
       "        vertical-align: top;\n",
       "    }\n",
       "\n",
       "    .dataframe thead th {\n",
       "        text-align: right;\n",
       "    }\n",
       "</style>\n",
       "<table border=\"1\" class=\"dataframe\">\n",
       "  <thead>\n",
       "    <tr style=\"text-align: right;\">\n",
       "      <th></th>\n",
       "      <th>url</th>\n",
       "      <th>timedelta</th>\n",
       "      <th>n_tokens_title</th>\n",
       "      <th>n_tokens_content</th>\n",
       "      <th>n_unique_tokens</th>\n",
       "      <th>n_non_stop_words</th>\n",
       "      <th>n_non_stop_unique_tokens</th>\n",
       "      <th>num_hrefs</th>\n",
       "      <th>num_self_hrefs</th>\n",
       "      <th>num_imgs</th>\n",
       "      <th>...</th>\n",
       "      <th>min_positive_polarity</th>\n",
       "      <th>max_positive_polarity</th>\n",
       "      <th>avg_negative_polarity</th>\n",
       "      <th>min_negative_polarity</th>\n",
       "      <th>max_negative_polarity</th>\n",
       "      <th>title_subjectivity</th>\n",
       "      <th>title_sentiment_polarity</th>\n",
       "      <th>abs_title_subjectivity</th>\n",
       "      <th>abs_title_sentiment_polarity</th>\n",
       "      <th>Popular</th>\n",
       "    </tr>\n",
       "  </thead>\n",
       "  <tbody>\n",
       "    <tr>\n",
       "      <th>0</th>\n",
       "      <td>http://mashable.com/2014/12/10/cia-torture-rep...</td>\n",
       "      <td>28.0</td>\n",
       "      <td>9.0</td>\n",
       "      <td>188.0</td>\n",
       "      <td>0.732620</td>\n",
       "      <td>1.0</td>\n",
       "      <td>0.844262</td>\n",
       "      <td>5.0</td>\n",
       "      <td>1.0</td>\n",
       "      <td>1.0</td>\n",
       "      <td>...</td>\n",
       "      <td>0.200000</td>\n",
       "      <td>0.80</td>\n",
       "      <td>-0.487500</td>\n",
       "      <td>-0.60</td>\n",
       "      <td>-0.250000</td>\n",
       "      <td>0.9</td>\n",
       "      <td>0.8</td>\n",
       "      <td>0.4</td>\n",
       "      <td>0.8</td>\n",
       "      <td>1</td>\n",
       "    </tr>\n",
       "    <tr>\n",
       "      <th>1</th>\n",
       "      <td>http://mashable.com/2013/10/18/bitlock-kicksta...</td>\n",
       "      <td>447.0</td>\n",
       "      <td>7.0</td>\n",
       "      <td>297.0</td>\n",
       "      <td>0.653199</td>\n",
       "      <td>1.0</td>\n",
       "      <td>0.815789</td>\n",
       "      <td>9.0</td>\n",
       "      <td>4.0</td>\n",
       "      <td>1.0</td>\n",
       "      <td>...</td>\n",
       "      <td>0.160000</td>\n",
       "      <td>0.50</td>\n",
       "      <td>-0.135340</td>\n",
       "      <td>-0.40</td>\n",
       "      <td>-0.050000</td>\n",
       "      <td>0.1</td>\n",
       "      <td>-0.1</td>\n",
       "      <td>0.4</td>\n",
       "      <td>0.1</td>\n",
       "      <td>0</td>\n",
       "    </tr>\n",
       "    <tr>\n",
       "      <th>2</th>\n",
       "      <td>http://mashable.com/2013/07/24/google-glass-po...</td>\n",
       "      <td>533.0</td>\n",
       "      <td>11.0</td>\n",
       "      <td>181.0</td>\n",
       "      <td>0.660377</td>\n",
       "      <td>1.0</td>\n",
       "      <td>0.775701</td>\n",
       "      <td>4.0</td>\n",
       "      <td>3.0</td>\n",
       "      <td>1.0</td>\n",
       "      <td>...</td>\n",
       "      <td>0.136364</td>\n",
       "      <td>1.00</td>\n",
       "      <td>0.000000</td>\n",
       "      <td>0.00</td>\n",
       "      <td>0.000000</td>\n",
       "      <td>0.3</td>\n",
       "      <td>1.0</td>\n",
       "      <td>0.2</td>\n",
       "      <td>1.0</td>\n",
       "      <td>0</td>\n",
       "    </tr>\n",
       "    <tr>\n",
       "      <th>3</th>\n",
       "      <td>http://mashable.com/2013/11/21/these-are-the-m...</td>\n",
       "      <td>413.0</td>\n",
       "      <td>12.0</td>\n",
       "      <td>781.0</td>\n",
       "      <td>0.497409</td>\n",
       "      <td>1.0</td>\n",
       "      <td>0.677350</td>\n",
       "      <td>10.0</td>\n",
       "      <td>3.0</td>\n",
       "      <td>1.0</td>\n",
       "      <td>...</td>\n",
       "      <td>0.100000</td>\n",
       "      <td>1.00</td>\n",
       "      <td>-0.195701</td>\n",
       "      <td>-0.40</td>\n",
       "      <td>-0.071429</td>\n",
       "      <td>0.0</td>\n",
       "      <td>0.0</td>\n",
       "      <td>0.5</td>\n",
       "      <td>0.0</td>\n",
       "      <td>0</td>\n",
       "    </tr>\n",
       "    <tr>\n",
       "      <th>4</th>\n",
       "      <td>http://mashable.com/2014/02/11/parking-ticket-...</td>\n",
       "      <td>331.0</td>\n",
       "      <td>8.0</td>\n",
       "      <td>177.0</td>\n",
       "      <td>0.685714</td>\n",
       "      <td>1.0</td>\n",
       "      <td>0.830357</td>\n",
       "      <td>3.0</td>\n",
       "      <td>2.0</td>\n",
       "      <td>1.0</td>\n",
       "      <td>...</td>\n",
       "      <td>0.100000</td>\n",
       "      <td>0.55</td>\n",
       "      <td>-0.175000</td>\n",
       "      <td>-0.25</td>\n",
       "      <td>-0.100000</td>\n",
       "      <td>0.0</td>\n",
       "      <td>0.0</td>\n",
       "      <td>0.5</td>\n",
       "      <td>0.0</td>\n",
       "      <td>0</td>\n",
       "    </tr>\n",
       "    <tr>\n",
       "      <th>...</th>\n",
       "      <td>...</td>\n",
       "      <td>...</td>\n",
       "      <td>...</td>\n",
       "      <td>...</td>\n",
       "      <td>...</td>\n",
       "      <td>...</td>\n",
       "      <td>...</td>\n",
       "      <td>...</td>\n",
       "      <td>...</td>\n",
       "      <td>...</td>\n",
       "      <td>...</td>\n",
       "      <td>...</td>\n",
       "      <td>...</td>\n",
       "      <td>...</td>\n",
       "      <td>...</td>\n",
       "      <td>...</td>\n",
       "      <td>...</td>\n",
       "      <td>...</td>\n",
       "      <td>...</td>\n",
       "      <td>...</td>\n",
       "      <td>...</td>\n",
       "    </tr>\n",
       "    <tr>\n",
       "      <th>5995</th>\n",
       "      <td>http://mashable.com/2013/08/03/twerking-addict...</td>\n",
       "      <td>523.0</td>\n",
       "      <td>10.0</td>\n",
       "      <td>660.0</td>\n",
       "      <td>0.493884</td>\n",
       "      <td>1.0</td>\n",
       "      <td>0.633971</td>\n",
       "      <td>20.0</td>\n",
       "      <td>4.0</td>\n",
       "      <td>1.0</td>\n",
       "      <td>...</td>\n",
       "      <td>0.050000</td>\n",
       "      <td>0.50</td>\n",
       "      <td>-0.258730</td>\n",
       "      <td>-0.80</td>\n",
       "      <td>-0.100000</td>\n",
       "      <td>0.1</td>\n",
       "      <td>0.0</td>\n",
       "      <td>0.4</td>\n",
       "      <td>0.0</td>\n",
       "      <td>0</td>\n",
       "    </tr>\n",
       "    <tr>\n",
       "      <th>5996</th>\n",
       "      <td>http://mashable.com/2014/08/21/study-programs-...</td>\n",
       "      <td>139.0</td>\n",
       "      <td>9.0</td>\n",
       "      <td>144.0</td>\n",
       "      <td>0.647887</td>\n",
       "      <td>1.0</td>\n",
       "      <td>0.739583</td>\n",
       "      <td>15.0</td>\n",
       "      <td>4.0</td>\n",
       "      <td>10.0</td>\n",
       "      <td>...</td>\n",
       "      <td>0.100000</td>\n",
       "      <td>0.60</td>\n",
       "      <td>-0.250000</td>\n",
       "      <td>-0.30</td>\n",
       "      <td>-0.200000</td>\n",
       "      <td>0.0</td>\n",
       "      <td>0.0</td>\n",
       "      <td>0.5</td>\n",
       "      <td>0.0</td>\n",
       "      <td>1</td>\n",
       "    </tr>\n",
       "    <tr>\n",
       "      <th>5997</th>\n",
       "      <td>http://mashable.com/2013/04/25/email-warrant-m...</td>\n",
       "      <td>623.0</td>\n",
       "      <td>8.0</td>\n",
       "      <td>536.0</td>\n",
       "      <td>0.512287</td>\n",
       "      <td>1.0</td>\n",
       "      <td>0.647929</td>\n",
       "      <td>6.0</td>\n",
       "      <td>2.0</td>\n",
       "      <td>1.0</td>\n",
       "      <td>...</td>\n",
       "      <td>0.100000</td>\n",
       "      <td>0.40</td>\n",
       "      <td>-0.156250</td>\n",
       "      <td>-0.30</td>\n",
       "      <td>-0.100000</td>\n",
       "      <td>0.0</td>\n",
       "      <td>0.0</td>\n",
       "      <td>0.5</td>\n",
       "      <td>0.0</td>\n",
       "      <td>0</td>\n",
       "    </tr>\n",
       "    <tr>\n",
       "      <th>5998</th>\n",
       "      <td>http://mashable.com/2013/06/03/smartphone-sale...</td>\n",
       "      <td>584.0</td>\n",
       "      <td>10.0</td>\n",
       "      <td>266.0</td>\n",
       "      <td>0.534413</td>\n",
       "      <td>1.0</td>\n",
       "      <td>0.605882</td>\n",
       "      <td>9.0</td>\n",
       "      <td>6.0</td>\n",
       "      <td>1.0</td>\n",
       "      <td>...</td>\n",
       "      <td>0.100000</td>\n",
       "      <td>0.60</td>\n",
       "      <td>-0.250000</td>\n",
       "      <td>-0.40</td>\n",
       "      <td>-0.100000</td>\n",
       "      <td>0.0</td>\n",
       "      <td>0.0</td>\n",
       "      <td>0.5</td>\n",
       "      <td>0.0</td>\n",
       "      <td>0</td>\n",
       "    </tr>\n",
       "    <tr>\n",
       "      <th>5999</th>\n",
       "      <td>http://mashable.com/2013/09/06/twerk-fire/</td>\n",
       "      <td>489.0</td>\n",
       "      <td>7.0</td>\n",
       "      <td>447.0</td>\n",
       "      <td>0.605568</td>\n",
       "      <td>1.0</td>\n",
       "      <td>0.717172</td>\n",
       "      <td>19.0</td>\n",
       "      <td>3.0</td>\n",
       "      <td>0.0</td>\n",
       "      <td>...</td>\n",
       "      <td>0.050000</td>\n",
       "      <td>1.00</td>\n",
       "      <td>-0.400000</td>\n",
       "      <td>-0.40</td>\n",
       "      <td>-0.400000</td>\n",
       "      <td>0.0</td>\n",
       "      <td>0.0</td>\n",
       "      <td>0.5</td>\n",
       "      <td>0.0</td>\n",
       "      <td>1</td>\n",
       "    </tr>\n",
       "  </tbody>\n",
       "</table>\n",
       "<p>6000 rows × 61 columns</p>\n",
       "</div>"
      ],
      "text/plain": [
       "                                                    url  timedelta  \\\n",
       "0     http://mashable.com/2014/12/10/cia-torture-rep...       28.0   \n",
       "1     http://mashable.com/2013/10/18/bitlock-kicksta...      447.0   \n",
       "2     http://mashable.com/2013/07/24/google-glass-po...      533.0   \n",
       "3     http://mashable.com/2013/11/21/these-are-the-m...      413.0   \n",
       "4     http://mashable.com/2014/02/11/parking-ticket-...      331.0   \n",
       "...                                                 ...        ...   \n",
       "5995  http://mashable.com/2013/08/03/twerking-addict...      523.0   \n",
       "5996  http://mashable.com/2014/08/21/study-programs-...      139.0   \n",
       "5997  http://mashable.com/2013/04/25/email-warrant-m...      623.0   \n",
       "5998  http://mashable.com/2013/06/03/smartphone-sale...      584.0   \n",
       "5999         http://mashable.com/2013/09/06/twerk-fire/      489.0   \n",
       "\n",
       "      n_tokens_title  n_tokens_content  n_unique_tokens  n_non_stop_words  \\\n",
       "0                9.0             188.0         0.732620               1.0   \n",
       "1                7.0             297.0         0.653199               1.0   \n",
       "2               11.0             181.0         0.660377               1.0   \n",
       "3               12.0             781.0         0.497409               1.0   \n",
       "4                8.0             177.0         0.685714               1.0   \n",
       "...              ...               ...              ...               ...   \n",
       "5995            10.0             660.0         0.493884               1.0   \n",
       "5996             9.0             144.0         0.647887               1.0   \n",
       "5997             8.0             536.0         0.512287               1.0   \n",
       "5998            10.0             266.0         0.534413               1.0   \n",
       "5999             7.0             447.0         0.605568               1.0   \n",
       "\n",
       "      n_non_stop_unique_tokens  num_hrefs  num_self_hrefs  num_imgs  ...  \\\n",
       "0                     0.844262        5.0             1.0       1.0  ...   \n",
       "1                     0.815789        9.0             4.0       1.0  ...   \n",
       "2                     0.775701        4.0             3.0       1.0  ...   \n",
       "3                     0.677350       10.0             3.0       1.0  ...   \n",
       "4                     0.830357        3.0             2.0       1.0  ...   \n",
       "...                        ...        ...             ...       ...  ...   \n",
       "5995                  0.633971       20.0             4.0       1.0  ...   \n",
       "5996                  0.739583       15.0             4.0      10.0  ...   \n",
       "5997                  0.647929        6.0             2.0       1.0  ...   \n",
       "5998                  0.605882        9.0             6.0       1.0  ...   \n",
       "5999                  0.717172       19.0             3.0       0.0  ...   \n",
       "\n",
       "      min_positive_polarity  max_positive_polarity  avg_negative_polarity  \\\n",
       "0                  0.200000                   0.80              -0.487500   \n",
       "1                  0.160000                   0.50              -0.135340   \n",
       "2                  0.136364                   1.00               0.000000   \n",
       "3                  0.100000                   1.00              -0.195701   \n",
       "4                  0.100000                   0.55              -0.175000   \n",
       "...                     ...                    ...                    ...   \n",
       "5995               0.050000                   0.50              -0.258730   \n",
       "5996               0.100000                   0.60              -0.250000   \n",
       "5997               0.100000                   0.40              -0.156250   \n",
       "5998               0.100000                   0.60              -0.250000   \n",
       "5999               0.050000                   1.00              -0.400000   \n",
       "\n",
       "      min_negative_polarity  max_negative_polarity  title_subjectivity  \\\n",
       "0                     -0.60              -0.250000                 0.9   \n",
       "1                     -0.40              -0.050000                 0.1   \n",
       "2                      0.00               0.000000                 0.3   \n",
       "3                     -0.40              -0.071429                 0.0   \n",
       "4                     -0.25              -0.100000                 0.0   \n",
       "...                     ...                    ...                 ...   \n",
       "5995                  -0.80              -0.100000                 0.1   \n",
       "5996                  -0.30              -0.200000                 0.0   \n",
       "5997                  -0.30              -0.100000                 0.0   \n",
       "5998                  -0.40              -0.100000                 0.0   \n",
       "5999                  -0.40              -0.400000                 0.0   \n",
       "\n",
       "      title_sentiment_polarity  abs_title_subjectivity  \\\n",
       "0                          0.8                     0.4   \n",
       "1                         -0.1                     0.4   \n",
       "2                          1.0                     0.2   \n",
       "3                          0.0                     0.5   \n",
       "4                          0.0                     0.5   \n",
       "...                        ...                     ...   \n",
       "5995                       0.0                     0.4   \n",
       "5996                       0.0                     0.5   \n",
       "5997                       0.0                     0.5   \n",
       "5998                       0.0                     0.5   \n",
       "5999                       0.0                     0.5   \n",
       "\n",
       "      abs_title_sentiment_polarity  Popular  \n",
       "0                              0.8        1  \n",
       "1                              0.1        0  \n",
       "2                              1.0        0  \n",
       "3                              0.0        0  \n",
       "4                              0.0        0  \n",
       "...                            ...      ...  \n",
       "5995                           0.0        0  \n",
       "5996                           0.0        1  \n",
       "5997                           0.0        0  \n",
       "5998                           0.0        0  \n",
       "5999                           0.0        1  \n",
       "\n",
       "[6000 rows x 61 columns]"
      ]
     },
     "execution_count": 48,
     "metadata": {},
     "output_type": "execute_result"
    }
   ],
   "source": [
    "# Lectura de la información de archivo .csv\n",
    "df = pd.read_csv('mashable.csv', index_col=0)\n",
    "df"
   ]
  },
  {
   "cell_type": "code",
   "execution_count": 14,
   "metadata": {},
   "outputs": [
    {
     "data": {
      "text/plain": [
       "0.5"
      ]
     },
     "execution_count": 14,
     "metadata": {},
     "output_type": "execute_result"
    }
   ],
   "source": [
    "# Definición variable de interes y variables predictoras\n",
    "X = df.drop(['url', 'Popular'], axis=1)\n",
    "y = df['Popular']\n"
   ]
  },
  {
   "cell_type": "code",
   "execution_count": 15,
   "metadata": {},
   "outputs": [],
   "source": [
    "# División de la muestra en set de entrenamiento y prueba\n",
    "from sklearn.model_selection import train_test_split\n",
    "X_train, X_test, y_train, y_test = train_test_split(X, y, random_state=1)"
   ]
  },
  {
   "cell_type": "markdown",
   "metadata": {},
   "source": [
    "### Punto 6 - Árbol de decisión y regresión logística\n",
    "En la celda 6 construya un árbol de decisión y una regresión logística. Para el árbol calibre al menos un parámetro y evalúe el desempeño de cada modelo usando las métricas de Accuracy y F1-Score."
   ]
  },
  {
   "cell_type": "code",
   "execution_count": 52,
   "metadata": {},
   "outputs": [
    {
     "name": "stdout",
     "output_type": "stream",
     "text": [
      "El F1 score del arbol de decision es de: 0.6449\n",
      "El Accuracy del arbol de decision es de: 0.6453\n"
     ]
    }
   ],
   "source": [
    "# Celda 6\n",
    "from sklearn.model_selection import cross_val_score\n",
    "from sklearn.tree import DecisionTreeClassifier\n",
    "from sklearn.linear_model import LogisticRegression\n",
    "import matplotlib.pyplot as plt\n",
    "from sklearn.metrics import mean_squared_error\n",
    "from sklearn import metrics\n",
    "\n",
    "\n",
    "# Lista de valores para calibrar el criterio de parada de máxima profundidad (max_depth)\n",
    "max_depth_range = range(1, 40)\n",
    "\n",
    "# Lista para guardar los valores del RMSE para cada valor de máxima profundidad (max_depth)\n",
    "accuracy_scores = []\n",
    "\n",
    "# Loop para obtener el desempeño del modelo de acuerdo con la máxima profundidad\n",
    "for depth in max_depth_range:\n",
    "    # Definición del árbol de decisión usando DecisionTreeClassifier de la libreria sklearn\n",
    "    clf1 = DecisionTreeClassifier(max_depth=depth, random_state=42)\n",
    "    accuracy_scores.append(cross_val_score(clf1, X_train, y_train, cv=10, scoring='accuracy').mean())\n",
    "\n",
    "# Mejor accuracy (desempeño del modelo) y su correspondiente max_depth\n",
    "sorted(zip(accuracy_scores, max_depth_range))[::-1][0]\n",
    "\n",
    "# max_depth=2 fue el mejor, se ajusta un árbol usando este valor \n",
    "clf1 = DecisionTreeClassifier(max_depth=2, random_state=1)\n",
    "clf1.fit(X_train, y_train)\n",
    "\n",
    "y_pred1 = clf1.predict(X_test)\n",
    "\n",
    "\n",
    "print('El F1 score del arbol de decision es de:',round(metrics.f1_score(y_pred1, y_test),4))\n",
    "print('El Accuracy del arbol de decision es de:',round(metrics.accuracy_score(y_pred1, y_test),4))"
   ]
  },
  {
   "cell_type": "code",
   "execution_count": 17,
   "metadata": {},
   "outputs": [
    {
     "name": "stdout",
     "output_type": "stream",
     "text": [
      "El F1 score para la regresion logistica es de: 0.6106\n",
      "El Accuracy para la regresion logistica es de: 0.614\n"
     ]
    }
   ],
   "source": [
    "clf2 = LogisticRegression()\n",
    "clf2.fit(X_train, y_train)\n",
    "y_pred2 = clf2.predict(X_test)\n",
    "\n",
    "\n",
    "print('El F1 score para la regresion logistica es de:',round(metrics.f1_score(y_pred2, y_test),4))\n",
    "print('El Accuracy para la regresion logistica es de:',round(metrics.accuracy_score(y_pred2, y_test),4))"
   ]
  },
  {
   "cell_type": "markdown",
   "metadata": {},
   "source": [
    "Se observa un mayor desempeño usando el arbol de decisión con accuracy y F1score similares, de 0.64, mientras que con la regresion logistica el valor que se alcanza es de 0,61. "
   ]
  },
  {
   "cell_type": "markdown",
   "metadata": {},
   "source": [
    "### Punto 7 - Votación Mayoritaria\n",
    "En la celda 7 elabore un esamble con la metodología de **Votación mayoritaria** compuesto por 300 muestras bagged para cada uno de los siguientes escenarios:\n",
    "\n",
    "-100 árboles de decisión donde max_depth = None\\\n",
    "-100 árboles de decisión donde max_depth = 2\\\n",
    "-100 regresiones logísticas\n",
    "\n",
    "Evalúe los modelos utilizando las métricas de Accuracy y F1-Score."
   ]
  },
  {
   "cell_type": "code",
   "execution_count": 18,
   "metadata": {},
   "outputs": [
    {
     "name": "stdout",
     "output_type": "stream",
     "text": [
      "Los resultados  para el primer escenario son:\n",
      "\n",
      "El F1 score del primer escenario es de: 0.66756\n",
      "El Accuracy del primer escenario es de: 0.66867\n",
      "\n",
      "Los resultados  para el segundo escenario son:\n",
      "\n",
      "El F1 score del segundo escenario es de: 0.6335\n",
      "El Accuracy del segundo escenario es de: 0.646\n",
      "\n",
      "Los resultados  para el tercer escenario son:\n",
      "\n",
      "El F1 score del segundo escenario es de: 0.6125\n",
      "El Accuracy del segundo escenario es de: 0.6187\n"
     ]
    }
   ],
   "source": [
    "# Celda 7\n",
    "from sklearn.ensemble import BaggingClassifier\n",
    "\n",
    "#100 árboles de decisión donde max_depth = None\n",
    "clf_Bg_1 = BaggingClassifier(base_estimator=DecisionTreeClassifier(), n_estimators=100, bootstrap=True,max_samples=300,\n",
    "                        random_state=42, oob_score=True)\n",
    "\n",
    "clf_Bg_1.fit(X_train, y_train)\n",
    "y_pred_Bg_1 = clf_Bg_1.predict(X_test)\n",
    "\n",
    "f1score_1 = metrics.f1_score(y_pred_Bg_1, y_test)\n",
    "Accuracy_1 =  metrics.accuracy_score(y_pred_Bg_1, y_test)\n",
    "\n",
    "print('Los resultados  para el primer escenario son:')\n",
    "print(\"\")\n",
    "print('El F1 score del primer escenario es de:',round(f1score_1,5))\n",
    "print('El Accuracy del primer escenario es de:',round(Accuracy_1,5))\n",
    "print(\"\")\n",
    "\n",
    "#100 árboles de decisión donde max_depth = 2\n",
    "clf_Bg_2 = BaggingClassifier(base_estimator=DecisionTreeClassifier( max_depth = 2), n_estimators=100, bootstrap=True,max_samples=300,\n",
    "                        random_state=42, oob_score=True)\n",
    "\n",
    "clf_Bg_2.fit(X_train, y_train)\n",
    "y_pred_Bg_2 = clf_Bg_2.predict(X_test)\n",
    "\n",
    "f1score_2 = metrics.f1_score(y_pred_Bg_2, y_test)\n",
    "Accuracy_2 =  metrics.accuracy_score(y_pred_Bg_2, y_test)\n",
    "\n",
    "print('Los resultados  para el segundo escenario son:')\n",
    "print(\"\")\n",
    "print('El F1 score del segundo escenario es de:',round(f1score_2,4))\n",
    "print('El Accuracy del segundo escenario es de:',round(Accuracy_2,4))\n",
    "print(\"\")\n",
    "\n",
    "#100 regresiones logisticas \n",
    "clf_Bg_3 = BaggingClassifier(base_estimator=LogisticRegression(), n_estimators=100, bootstrap=True,max_samples=300,\n",
    "                        random_state=42, oob_score=True)\n",
    "clf_Bg_3.fit(X_train, y_train)\n",
    "y_pred_Bg_3 = clf_Bg_3.predict(X_test)\n",
    "\n",
    "f1score_3 = metrics.f1_score(y_pred_Bg_3, y_test)\n",
    "Accuracy_3 = metrics.accuracy_score(y_pred_Bg_3, y_test) \n",
    "\n",
    "print('Los resultados  para el tercer escenario son:')\n",
    "print(\"\")\n",
    "print('El F1 score del segundo escenario es de:',round(f1score_3,4))\n",
    "print('El Accuracy del segundo escenario es de:',round(Accuracy_3,4))"
   ]
  },
  {
   "cell_type": "markdown",
   "metadata": {},
   "source": [
    "### Punto 8 - Votación Ponderada\n",
    "En la celda 8 elabore un ensamble con la metodología de **Votación ponderada** compuesto por 300 muestras bagged para los mismos tres escenarios del punto 7. Evalúe los modelos utilizando las métricas de Accuracy y F1-Score"
   ]
  },
  {
   "cell_type": "code",
   "execution_count": 24,
   "metadata": {},
   "outputs": [
    {
     "name": "stdout",
     "output_type": "stream",
     "text": [
      "Los resultados  para el primer escenario son:\n",
      "\n",
      "El F1 score del primer escenario es de: 0.67153\n",
      "El Accuracy del primer escenario es de: 0.67\n",
      "\n",
      "Los resultados  para el segundo escenario son:\n",
      "\n",
      "El F1 score del segundo escenario es de: 0.6347\n",
      "El Accuracy del segundo escenario es de: 0.6493\n",
      "\n",
      "Los resultados  para el tercer escenario son:\n",
      "\n",
      "El F1 score del tercer escenario es de: 0.6162\n",
      "El Accuracy del tercer escenario es de: 0.6213\n",
      "\n"
     ]
    }
   ],
   "source": [
    "# Celda 8\n",
    "\n",
    "#100 árboles de decisión donde max_depth = None\n",
    "clf_Bg_4 = BaggingClassifier(base_estimator=DecisionTreeClassifier(), n_estimators=100, bootstrap=True,max_samples=300,\n",
    "                        random_state=42, oob_score=True)\n",
    "\n",
    "clf_Bg_4.fit(X_train, y_train)\n",
    "y_pred_Bg_4 = clf_Bg_4.predict(X_test)\n",
    "\n",
    "# Obtención de los pesos alpha de cada modelo de acuerdo al error OOB\n",
    "errors4 = np.zeros(clf_Bg_4.n_estimators)\n",
    "y_pred_all_4 = np.zeros((X_test.shape[0], clf_Bg_4.n_estimators))\n",
    "\n",
    "for i in range(clf_Bg_4.n_estimators):\n",
    "    oob_sample = ~clf_Bg_4.estimators_samples_[i]\n",
    "    y_pred_4 = clf_Bg_4.estimators_[i].predict(X_train.values[oob_sample])\n",
    "    errors4[i] = metrics.accuracy_score(y_pred_4, y_train.values[oob_sample])\n",
    "    y_pred_all_4[:, i] = clf_Bg_4.estimators_[i].predict(X_test)\n",
    "    \n",
    "alpha4 = (1 - errors4) / (1 - errors4).sum()\n",
    "y_pred4 = (np.sum(y_pred_all_4 * alpha4, axis=1) >= 0.5).astype(np.int)\n",
    "\n",
    "f1score_4 = metrics.f1_score(y_pred4, y_test)\n",
    "Accuracy_4 =  metrics.accuracy_score(y_pred4, y_test)\n",
    "\n",
    "print('Los resultados  para el primer escenario son:')\n",
    "print(\"\")\n",
    "print('El F1 score del primer escenario es de:',round(f1score_4,5))\n",
    "print('El Accuracy del primer escenario es de:',Accuracy_4)\n",
    "print(\"\")\n",
    "\n",
    "#100 árboles de decisión donde max_depth = 2\n",
    "clf_Bg_5 = BaggingClassifier(base_estimator=DecisionTreeClassifier( max_depth = 2), n_estimators=100, bootstrap=True,max_samples=300,\n",
    "                        random_state=42, oob_score=True)\n",
    "\n",
    "clf_Bg_5.fit(X_train, y_train)\n",
    "y_pred_Bg_5 = clf_Bg_5.predict(X_test)\n",
    "\n",
    "# Obtención de los pesos alpha de cada modelo de acuerdo al error OOB\n",
    "errors5 = np.zeros(clf_Bg_5.n_estimators)\n",
    "y_pred_all_5 = np.zeros((X_test.shape[0], clf_Bg_5.n_estimators))\n",
    "\n",
    "for i in range(clf_Bg_5.n_estimators):\n",
    "    oob_sample = ~clf_Bg_4.estimators_samples_[i]\n",
    "    y_pred_5 = clf_Bg_5.estimators_[i].predict(X_train.values[oob_sample])\n",
    "    errors5[i] = metrics.accuracy_score(y_pred_5, y_train.values[oob_sample])\n",
    "    y_pred_all_5[:, i] = clf_Bg_5.estimators_[i].predict(X_test)\n",
    "    \n",
    "alpha5 = (1 - errors5) / (1 - errors5).sum()\n",
    "y_pred5 = (np.sum(y_pred_all_5 * alpha5, axis=1) >= 0.5).astype(np.int)\n",
    "\n",
    "f1score_5 = metrics.f1_score(y_pred5, y_test)\n",
    "Accuracy_5 =  metrics.accuracy_score(y_pred5, y_test)\n",
    "\n",
    "print('Los resultados  para el segundo escenario son:')\n",
    "print(\"\")\n",
    "print('El F1 score del segundo escenario es de:',round(f1score_5,4))\n",
    "print('El Accuracy del segundo escenario es de:',round(Accuracy_5,4))\n",
    "print(\"\")\n",
    "\n",
    "#100 regresiones logisticas \n",
    "clf_Bg_6 = BaggingClassifier(base_estimator=LogisticRegression(), n_estimators=100, bootstrap=True,max_samples=300,\n",
    "                        random_state=42, oob_score=True)\n",
    "clf_Bg_6.fit(X_train, y_train)\n",
    "y_pred_Bg_6 = clf_Bg_6.predict(X_test)\n",
    "\n",
    "# Obtención de los pesos alpha de cada modelo de acuerdo al error OOB\n",
    "errors6 = np.zeros(clf_Bg_6.n_estimators)\n",
    "y_pred_all_6 = np.zeros((X_test.shape[0], clf_Bg_6.n_estimators))\n",
    "\n",
    "for i in range(clf_Bg_6.n_estimators):\n",
    "    oob_sample = ~clf_Bg_6.estimators_samples_[i]\n",
    "    y_pred_6 = clf_Bg_6.estimators_[i].predict(X_train.values[oob_sample])\n",
    "    errors6[i] = metrics.accuracy_score(y_pred_6, y_train.values[oob_sample])\n",
    "    y_pred_all_6[:, i] = clf_Bg_6.estimators_[i].predict(X_test)\n",
    "    \n",
    "alpha6 = (1 - errors6) / (1 - errors6).sum()\n",
    "y_pred6 = (np.sum(y_pred_all_6 * alpha6, axis=1) >= 0.5).astype(np.int)\n",
    "\n",
    "f1score_6 = metrics.f1_score(y_pred6, y_test)\n",
    "Accuracy_6 =  metrics.accuracy_score(y_pred6, y_test)\n",
    "\n",
    "print('Los resultados  para el tercer escenario son:')\n",
    "print(\"\")\n",
    "print('El F1 score del tercer escenario es de:',round(f1score_6,4))\n",
    "print('El Accuracy del tercer escenario es de:',round(Accuracy_6,4))\n",
    "print(\"\")"
   ]
  },
  {
   "cell_type": "markdown",
   "metadata": {},
   "source": [
    "### Punto 9 - Comparación y análisis de resultados\n",
    "En la celda 9 comente sobre los resultados obtenidos con las metodologías usadas en los puntos 7 y 8, compare los resultados y enuncie posibles ventajas o desventajas de cada una de ellas."
   ]
  },
  {
   "cell_type": "code",
   "execution_count": 29,
   "metadata": {},
   "outputs": [],
   "source": [
    "# Celda 9\n",
    "modelos = ['v_mayoritaria_1','v_mayoritaria_2','v_mayoritaria_3','v_ponderada_1','v_ponderada_2','v_ponderada_3']\n",
    "f1score = [round(f1score_1,3),round(f1score_2,3),round(f1score_3,3),round(f1score_4,3),round(f1score_5,3),round(f1score_6,3)]\n",
    "Accuracy = [round(Accuracy_1,3),round(Accuracy_2,3),round(Accuracy_3,3),round(Accuracy_4,3),round(Accuracy_5,3),round(Accuracy_6,3)]"
   ]
  },
  {
   "cell_type": "code",
   "execution_count": 30,
   "metadata": {},
   "outputs": [
    {
     "data": {
      "image/png": "[encoded data removed]",
      "text/plain": [
       "<Figure size 432x288 with 1 Axes>"
      ]
     },
     "metadata": {
      "needs_background": "light"
     },
     "output_type": "display_data"
    }
   ],
   "source": [
    "fig = plt.figure()\n",
    "ax = fig.add_axes([0,0,1,1])\n",
    "ax.set_title(\"Comparación de modelos\")\n",
    "ax.bar(modelos,f1score)\n",
    "def addlabels(x,y,plotP):\n",
    "    for i in range(len(x)):\n",
    "        plotP.text(i,y[i],y[i])\n",
    "addlabels(modelos,f1score,plt)\n",
    "plt.show()"
   ]
  },
  {
   "cell_type": "markdown",
   "metadata": {},
   "source": [
    "Al realizar votacion ponderada se observa una mejora significativa en el desempeno de los tres modelos utilizados. Al igual que con la votacion mayoritaria se obtiene un mejor desempeno con el primer escenario en el que se utilizan 100 Arboles de decision sin restriccion por profundidad, se observa que al restringir la profundidad a 2 se tiene una reduccion significativa en el desempeno. En los dos tipos de votacion se tiene el peor desempeno al utilizar la regresion logistica.   "
   ]
  },
  {
   "cell_type": "code",
   "execution_count": null,
   "metadata": {},
   "outputs": [],
   "source": []
  }
 ],
 "metadata": {
  "kernelspec": {
   "display_name": "Python 3",
   "language": "python",
   "name": "python3"
  },
  "language_info": {
   "codemirror_mode": {
    "name": "ipython",
    "version": 3
   },
   "file_extension": ".py",
   "mimetype": "text/x-python",
   "name": "python",
   "nbconvert_exporter": "python",
   "pygments_lexer": "ipython3",
   "version": "3.7.6"
  }
 },
 "nbformat": 4,
 "nbformat_minor": 4
}
